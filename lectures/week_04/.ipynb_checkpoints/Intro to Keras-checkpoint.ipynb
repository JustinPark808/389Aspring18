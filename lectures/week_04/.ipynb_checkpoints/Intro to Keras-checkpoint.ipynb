{
 "cells": [
  {
   "cell_type": "code",
   "execution_count": 23,
   "metadata": {},
   "outputs": [],
   "source": [
    "%matplotlib inline"
   ]
  },
  {
   "cell_type": "markdown",
   "metadata": {},
   "source": [
    "# Intro to Keras\n",
    "\n",
    "**Course**: CMSC 389A Practical Deep Learning  \n",
    "**Author**: Sujith Vishwajith\n",
    "\n",
    "**Task**:\n",
    "We want to build a neural network using Keras that is able to classify if a person has diabetes or not based on a fixed set of features:\n",
    "1. Number of times pregnant \n",
    "2. Plasma glucose concentration a 2 hours in an oral glucose tolerance test \n",
    "3. Diastolic blood pressure (mm Hg) \n",
    "4. Triceps skin fold thickness (mm) \n",
    "5. 2-Hour serum insulin (mu U/ml) \n",
    "6. Body mass index (weight in kg/(height in m)^2) \n",
    "7. Diabetes pedigree function \n",
    "8. Age (years)  \n",
    "\n",
    "The goal of this tutorial is to help you understand how to use Keras.\n",
    "\n",
    "**Packages**  \n",
    "Lets import the following required packages."
   ]
  },
  {
   "cell_type": "code",
   "execution_count": 31,
   "metadata": {},
   "outputs": [],
   "source": [
    "import matplotlib.pyplot as plt\n",
    "import numpy as np\n",
    "import pandas as pd\n",
    "from keras.layers import Dense\n",
    "from keras.models import Sequential\n",
    "from sklearn.utils import shuffle\n",
    "\n",
    "# Fixed seed for reproducibility\n",
    "kSEED = 5\n",
    "np.random.seed(kSEED)"
   ]
  },
  {
   "cell_type": "markdown",
   "metadata": {},
   "source": [
    "## Load Data\n",
    "\n",
    "We'll be using the Pima Indians Diabetes dataset provided by UCI [here](http://archive.ics.uci.edu/ml/machine-learning-databases/pima-indians-diabetes/) to train our model.\n",
    "\n",
    "**Reading the Data**  \n",
    "Let's first load and read the dataset into our program."
   ]
  },
  {
   "cell_type": "code",
   "execution_count": 2,
   "metadata": {},
   "outputs": [],
   "source": [
    "file_name = 'diabetes.csv'\n",
    "columns = [\n",
    "    'Number of times pregnant',\n",
    "    'Plasma glucose concentration a 2 hours in an oral glucose tolerance test',\n",
    "    'Diastolic blood pressure (mm Hg)',\n",
    "    'Triceps skin fold thickness (mm)',\n",
    "    '2-Hour serum insulin (mu U/ml)',\n",
    "    'Body mass index (weight in kg/(height in m)^2)',\n",
    "    'Diabetes pedigree function',\n",
    "    'Age (years)',\n",
    "    'Class variable (0: no diabetes, 1: diabetes)']\n",
    "\n",
    "df = pd.read_csv(file_name, names=columns, delimiter=',', header=-1)\n",
    "df[columns[:-1]] = df[columns[:-1]].astype(float)\n",
    "df[columns[-1]] = df[columns[-1]].astype(int)"
   ]
  },
  {
   "cell_type": "markdown",
   "metadata": {},
   "source": [
    "Lets take a peek at the data"
   ]
  },
  {
   "cell_type": "code",
   "execution_count": 3,
   "metadata": {},
   "outputs": [
    {
     "data": {
      "text/html": [
       "<div>\n",
       "<style scoped>\n",
       "    .dataframe tbody tr th:only-of-type {\n",
       "        vertical-align: middle;\n",
       "    }\n",
       "\n",
       "    .dataframe tbody tr th {\n",
       "        vertical-align: top;\n",
       "    }\n",
       "\n",
       "    .dataframe thead th {\n",
       "        text-align: right;\n",
       "    }\n",
       "</style>\n",
       "<table border=\"1\" class=\"dataframe\">\n",
       "  <thead>\n",
       "    <tr style=\"text-align: right;\">\n",
       "      <th></th>\n",
       "      <th>Number of times pregnant</th>\n",
       "      <th>Plasma glucose concentration a 2 hours in an oral glucose tolerance test</th>\n",
       "      <th>Diastolic blood pressure (mm Hg)</th>\n",
       "      <th>Triceps skin fold thickness (mm)</th>\n",
       "      <th>2-Hour serum insulin (mu U/ml)</th>\n",
       "      <th>Body mass index (weight in kg/(height in m)^2)</th>\n",
       "      <th>Diabetes pedigree function</th>\n",
       "      <th>Age (years)</th>\n",
       "      <th>Class variable (0: no diabetes, 1: diabetes)</th>\n",
       "    </tr>\n",
       "  </thead>\n",
       "  <tbody>\n",
       "    <tr>\n",
       "      <th>0</th>\n",
       "      <td>6.0</td>\n",
       "      <td>148.0</td>\n",
       "      <td>72.0</td>\n",
       "      <td>35.0</td>\n",
       "      <td>0.0</td>\n",
       "      <td>33.6</td>\n",
       "      <td>0.627</td>\n",
       "      <td>50.0</td>\n",
       "      <td>1</td>\n",
       "    </tr>\n",
       "    <tr>\n",
       "      <th>1</th>\n",
       "      <td>1.0</td>\n",
       "      <td>85.0</td>\n",
       "      <td>66.0</td>\n",
       "      <td>29.0</td>\n",
       "      <td>0.0</td>\n",
       "      <td>26.6</td>\n",
       "      <td>0.351</td>\n",
       "      <td>31.0</td>\n",
       "      <td>0</td>\n",
       "    </tr>\n",
       "    <tr>\n",
       "      <th>2</th>\n",
       "      <td>8.0</td>\n",
       "      <td>183.0</td>\n",
       "      <td>64.0</td>\n",
       "      <td>0.0</td>\n",
       "      <td>0.0</td>\n",
       "      <td>23.3</td>\n",
       "      <td>0.672</td>\n",
       "      <td>32.0</td>\n",
       "      <td>1</td>\n",
       "    </tr>\n",
       "    <tr>\n",
       "      <th>3</th>\n",
       "      <td>1.0</td>\n",
       "      <td>89.0</td>\n",
       "      <td>66.0</td>\n",
       "      <td>23.0</td>\n",
       "      <td>94.0</td>\n",
       "      <td>28.1</td>\n",
       "      <td>0.167</td>\n",
       "      <td>21.0</td>\n",
       "      <td>0</td>\n",
       "    </tr>\n",
       "    <tr>\n",
       "      <th>4</th>\n",
       "      <td>0.0</td>\n",
       "      <td>137.0</td>\n",
       "      <td>40.0</td>\n",
       "      <td>35.0</td>\n",
       "      <td>168.0</td>\n",
       "      <td>43.1</td>\n",
       "      <td>2.288</td>\n",
       "      <td>33.0</td>\n",
       "      <td>1</td>\n",
       "    </tr>\n",
       "  </tbody>\n",
       "</table>\n",
       "</div>"
      ],
      "text/plain": [
       "   Number of times pregnant  \\\n",
       "0                       6.0   \n",
       "1                       1.0   \n",
       "2                       8.0   \n",
       "3                       1.0   \n",
       "4                       0.0   \n",
       "\n",
       "   Plasma glucose concentration a 2 hours in an oral glucose tolerance test  \\\n",
       "0                                              148.0                          \n",
       "1                                               85.0                          \n",
       "2                                              183.0                          \n",
       "3                                               89.0                          \n",
       "4                                              137.0                          \n",
       "\n",
       "   Diastolic blood pressure (mm Hg)  Triceps skin fold thickness (mm)  \\\n",
       "0                              72.0                              35.0   \n",
       "1                              66.0                              29.0   \n",
       "2                              64.0                               0.0   \n",
       "3                              66.0                              23.0   \n",
       "4                              40.0                              35.0   \n",
       "\n",
       "   2-Hour serum insulin (mu U/ml)  \\\n",
       "0                             0.0   \n",
       "1                             0.0   \n",
       "2                             0.0   \n",
       "3                            94.0   \n",
       "4                           168.0   \n",
       "\n",
       "   Body mass index (weight in kg/(height in m)^2)  Diabetes pedigree function  \\\n",
       "0                                            33.6                       0.627   \n",
       "1                                            26.6                       0.351   \n",
       "2                                            23.3                       0.672   \n",
       "3                                            28.1                       0.167   \n",
       "4                                            43.1                       2.288   \n",
       "\n",
       "   Age (years)  Class variable (0: no diabetes, 1: diabetes)  \n",
       "0         50.0                                             1  \n",
       "1         31.0                                             0  \n",
       "2         32.0                                             1  \n",
       "3         21.0                                             0  \n",
       "4         33.0                                             1  "
      ]
     },
     "execution_count": 3,
     "metadata": {},
     "output_type": "execute_result"
    }
   ],
   "source": [
    "df.head()"
   ]
  },
  {
   "cell_type": "markdown",
   "metadata": {},
   "source": [
    "An important part of handling data for training neural networks is to normalize all the values between -1 and 1. Remember that this only applied to continous values not one hot class encodings (e.g. Male -> 0, Female -> 1)."
   ]
  },
  {
   "cell_type": "code",
   "execution_count": 4,
   "metadata": {},
   "outputs": [],
   "source": [
    "# Normalize all the values between -1 and 1 as discussed in class\n",
    "for feature in df.columns[:-1]:\n",
    "    max_value = df[feature].max()\n",
    "    min_value = df[feature].min()\n",
    "    mean_value = df[feature].mean()\n",
    "    df[feature] = (df[feature] - mean_value) / (max_value - min_value)"
   ]
  },
  {
   "cell_type": "markdown",
   "metadata": {},
   "source": [
    "Lets now examine the data after normalizing it."
   ]
  },
  {
   "cell_type": "code",
   "execution_count": 5,
   "metadata": {},
   "outputs": [
    {
     "data": {
      "text/html": [
       "<div>\n",
       "<style scoped>\n",
       "    .dataframe tbody tr th:only-of-type {\n",
       "        vertical-align: middle;\n",
       "    }\n",
       "\n",
       "    .dataframe tbody tr th {\n",
       "        vertical-align: top;\n",
       "    }\n",
       "\n",
       "    .dataframe thead th {\n",
       "        text-align: right;\n",
       "    }\n",
       "</style>\n",
       "<table border=\"1\" class=\"dataframe\">\n",
       "  <thead>\n",
       "    <tr style=\"text-align: right;\">\n",
       "      <th></th>\n",
       "      <th>Number of times pregnant</th>\n",
       "      <th>Plasma glucose concentration a 2 hours in an oral glucose tolerance test</th>\n",
       "      <th>Diastolic blood pressure (mm Hg)</th>\n",
       "      <th>Triceps skin fold thickness (mm)</th>\n",
       "      <th>2-Hour serum insulin (mu U/ml)</th>\n",
       "      <th>Body mass index (weight in kg/(height in m)^2)</th>\n",
       "      <th>Diabetes pedigree function</th>\n",
       "      <th>Age (years)</th>\n",
       "      <th>Class variable (0: no diabetes, 1: diabetes)</th>\n",
       "    </tr>\n",
       "  </thead>\n",
       "  <tbody>\n",
       "    <tr>\n",
       "      <th>0</th>\n",
       "      <td>0.126762</td>\n",
       "      <td>0.136208</td>\n",
       "      <td>0.023726</td>\n",
       "      <td>0.146096</td>\n",
       "      <td>-0.094326</td>\n",
       "      <td>0.023956</td>\n",
       "      <td>0.066236</td>\n",
       "      <td>0.279319</td>\n",
       "      <td>1</td>\n",
       "    </tr>\n",
       "    <tr>\n",
       "      <th>1</th>\n",
       "      <td>-0.167356</td>\n",
       "      <td>-0.180375</td>\n",
       "      <td>-0.025455</td>\n",
       "      <td>0.085490</td>\n",
       "      <td>-0.094326</td>\n",
       "      <td>-0.080366</td>\n",
       "      <td>-0.051612</td>\n",
       "      <td>-0.037348</td>\n",
       "      <td>0</td>\n",
       "    </tr>\n",
       "    <tr>\n",
       "      <th>2</th>\n",
       "      <td>0.244409</td>\n",
       "      <td>0.312088</td>\n",
       "      <td>-0.041848</td>\n",
       "      <td>-0.207439</td>\n",
       "      <td>-0.094326</td>\n",
       "      <td>-0.129547</td>\n",
       "      <td>0.085450</td>\n",
       "      <td>-0.020681</td>\n",
       "      <td>1</td>\n",
       "    </tr>\n",
       "    <tr>\n",
       "      <th>3</th>\n",
       "      <td>-0.167356</td>\n",
       "      <td>-0.160274</td>\n",
       "      <td>-0.025455</td>\n",
       "      <td>0.024884</td>\n",
       "      <td>0.016785</td>\n",
       "      <td>-0.058012</td>\n",
       "      <td>-0.130178</td>\n",
       "      <td>-0.204015</td>\n",
       "      <td>0</td>\n",
       "    </tr>\n",
       "    <tr>\n",
       "      <th>4</th>\n",
       "      <td>-0.226180</td>\n",
       "      <td>0.080932</td>\n",
       "      <td>-0.238569</td>\n",
       "      <td>0.146096</td>\n",
       "      <td>0.104256</td>\n",
       "      <td>0.165535</td>\n",
       "      <td>0.775458</td>\n",
       "      <td>-0.004015</td>\n",
       "      <td>1</td>\n",
       "    </tr>\n",
       "  </tbody>\n",
       "</table>\n",
       "</div>"
      ],
      "text/plain": [
       "   Number of times pregnant  \\\n",
       "0                  0.126762   \n",
       "1                 -0.167356   \n",
       "2                  0.244409   \n",
       "3                 -0.167356   \n",
       "4                 -0.226180   \n",
       "\n",
       "   Plasma glucose concentration a 2 hours in an oral glucose tolerance test  \\\n",
       "0                                           0.136208                          \n",
       "1                                          -0.180375                          \n",
       "2                                           0.312088                          \n",
       "3                                          -0.160274                          \n",
       "4                                           0.080932                          \n",
       "\n",
       "   Diastolic blood pressure (mm Hg)  Triceps skin fold thickness (mm)  \\\n",
       "0                          0.023726                          0.146096   \n",
       "1                         -0.025455                          0.085490   \n",
       "2                         -0.041848                         -0.207439   \n",
       "3                         -0.025455                          0.024884   \n",
       "4                         -0.238569                          0.146096   \n",
       "\n",
       "   2-Hour serum insulin (mu U/ml)  \\\n",
       "0                       -0.094326   \n",
       "1                       -0.094326   \n",
       "2                       -0.094326   \n",
       "3                        0.016785   \n",
       "4                        0.104256   \n",
       "\n",
       "   Body mass index (weight in kg/(height in m)^2)  Diabetes pedigree function  \\\n",
       "0                                        0.023956                    0.066236   \n",
       "1                                       -0.080366                   -0.051612   \n",
       "2                                       -0.129547                    0.085450   \n",
       "3                                       -0.058012                   -0.130178   \n",
       "4                                        0.165535                    0.775458   \n",
       "\n",
       "   Age (years)  Class variable (0: no diabetes, 1: diabetes)  \n",
       "0     0.279319                                             1  \n",
       "1    -0.037348                                             0  \n",
       "2    -0.020681                                             1  \n",
       "3    -0.204015                                             0  \n",
       "4    -0.004015                                             1  "
      ]
     },
     "execution_count": 5,
     "metadata": {},
     "output_type": "execute_result"
    }
   ],
   "source": [
    "df.head()"
   ]
  },
  {
   "cell_type": "markdown",
   "metadata": {},
   "source": [
    "## Train-test Split\n",
    "\n",
    "Training our model on the entire dataset then testing on a subset of it is unfair as the model has seen the examples before. To ensure fairness, a common practice is to train the models on a portion of the data and then test its performance on the rest. In our case, we will take a random 80% for training examples and a random 20% for testing.\n",
    "\n",
    "The class example will be used to represent our data examples."
   ]
  },
  {
   "cell_type": "code",
   "execution_count": 7,
   "metadata": {},
   "outputs": [],
   "source": [
    "class Example:\n",
    "    \"\"\"\n",
    "    Class to represent a data example.\n",
    "    \"\"\"\n",
    "\n",
    "    def __init__(self, features, label):\n",
    "        \"\"\"\n",
    "        Create a new example.\n",
    "\n",
    "        :param label: The label (0 / 1) of the example\n",
    "        :param vocab: The real valued features of patient (list)\n",
    "        \"\"\"\n",
    "        self.features = features\n",
    "        self.label = label"
   ]
  },
  {
   "cell_type": "markdown",
   "metadata": {},
   "source": [
    "The list `data` contains all our examples in the dataset."
   ]
  },
  {
   "cell_type": "code",
   "execution_count": 8,
   "metadata": {},
   "outputs": [],
   "source": [
    "data = []\n",
    "for row in df.itertuples():\n",
    "    label = row[9]\n",
    "    features = row[1:9]\n",
    "    example = Example(features, label)\n",
    "    data.append(example)"
   ]
  },
  {
   "cell_type": "markdown",
   "metadata": {},
   "source": [
    "Performing a train-test split on the data after randomly shuffling it. Make sure you **ALWAYS** shuffle your training data.\n",
    "\n",
    "- `X_train`: contains the features we train on\n",
    "- `y_train`: contains the label for each index in `X_train` \n",
    "- `X_test` and `y_test` follow the same idea but for testing data"
   ]
  },
  {
   "cell_type": "code",
   "execution_count": 9,
   "metadata": {},
   "outputs": [
    {
     "name": "stdout",
     "output_type": "stream",
     "text": [
      "Total Examples: 768\n",
      "Train Examples: 614\n",
      "Test Examples:  154\n"
     ]
    }
   ],
   "source": [
    "# Amount of data used for training\n",
    "frac = 0.8\n",
    "\n",
    "data = shuffle(data, random_state=kSEED)\n",
    "split_index = int(frac * len(data))\n",
    "train = data[:split_index]\n",
    "test = data[split_index:]\n",
    "\n",
    "X_train = np.array([example.features for example in train])\n",
    "y_train = np.array([example.label for example in train])\n",
    "X_test = np.array([example.features for example in test])\n",
    "y_test = np.array([example.label for example in test])\n",
    "\n",
    "print('Total Examples: {:}\\nTrain Examples: {:}\\nTest Examples: {:4d}'.format(len(data), len(X_train), len(X_test)))"
   ]
  },
  {
   "cell_type": "markdown",
   "metadata": {},
   "source": [
    "## Implementing the Model\n",
    "\n",
    "In this section we get our hands dirty and actually build the model. Our model will have the following architecture:\n",
    "\n",
    "- Fully connected feed-forward network with 3 layers\n",
    "- 8 input neurons (1 for each feature)\n",
    "- 12 neurons in hidden layer 1; Activation: ReLU\n",
    "- 8 neurons in hidden layer 2; Activation: ReLU\n",
    "- 1 output neuron containing predictionl; Activation: Sigmoid"
   ]
  },
  {
   "cell_type": "markdown",
   "metadata": {},
   "source": [
    "### Setting up the Layers\n",
    "\n",
    "We use the Sequential() class because Keras models are defined as a 'sequence' of layers. The input dimension argument in the first layer corresponds the number of input features the layer will recieve.\n",
    "\n",
    "The Dense class specifies a fully connected layer meaning that every single neuron in the layer is connected to the next and previous layers' neurons. The network is initialized with small random weights following either a uniform or normal distribution (you can specify). \n",
    "\n",
    "The first two layers will use the ReLU activation function (as discussed in class we see that in modern networks it performs better). And for the last layer, we will use the sigmoid function to output a probability of confidence.\n",
    "\n",
    "Why did we decide this structure? We picked a network architecture that we think is big enough to capture and learn the structure of our input. For larger datasets with more features, you would need a larger network. There is now way to compute the optimal network layout just by the data. It's important to experiment with different network architectures and select the best one."
   ]
  },
  {
   "cell_type": "code",
   "execution_count": 12,
   "metadata": {},
   "outputs": [],
   "source": [
    "model = Sequential()\n",
    "model.add(Dense(12, input_dim=8, activation='relu'))\n",
    "model.add(Dense(8, activation='relu'))\n",
    "model.add(Dense(1, activation='sigmoid'))"
   ]
  },
  {
   "cell_type": "markdown",
   "metadata": {},
   "source": [
    "### Compiling the Model\n",
    "\n",
    "An important step is to compile the model after setting its architecture. This calls our backend (in this case Tensorflow) to setup a representation of the network which we can train based on your system. Since this is a binary classification (only 2 classes), we will use the binary crossentropy loss function. Don't worry if you don't understand this as we will talk about it in class. Check out the link [here](http://ml-cheatsheet.readthedocs.io/en/latest/loss_functions.html#cross-entropy) for more information on loss functions. The optimizer we will use is the Adam optimizer (also will discuss in class) and our metric for training which we want to see will be accuracy.\n",
    "\n",
    "\n",
    "#### Definition of cross entropy loss:\n",
    "Cross-entropy loss, or log loss, measures the performance of a classification model whose output is a probability value between 0 and 1. Cross-entropy loss increases as the predicted probability diverges from the actual label. So predicting a probability of .012 when the actual observation label is 1 would be bad and result in a high loss value. A perfect model would have a log loss of 0."
   ]
  },
  {
   "cell_type": "code",
   "execution_count": 19,
   "metadata": {},
   "outputs": [],
   "source": [
    "model.compile(loss='binary_crossentropy', optimizer='adam', metrics=['accuracy'])"
   ]
  },
  {
   "cell_type": "markdown",
   "metadata": {},
   "source": [
    "### Training the Model\n",
    "\n",
    "Now is one of the most important steps in building a neural network. We will train then neural network on the data we setup before. Notice how we only train the network on 80% of the data. An epoch refers to training over the entire data set 1 times. We will train for 20 epochs meaning we will go over the dataset 20 times. We will be using SGD so we can specify a batch size of 10 meaning our model will train on 10 examples at each step rather than the entire dataset (which we saw was computationally infeasible)."
   ]
  },
  {
   "cell_type": "code",
   "execution_count": 16,
   "metadata": {
    "scrolled": true
   },
   "outputs": [
    {
     "name": "stdout",
     "output_type": "stream",
     "text": [
      "Epoch 1/20\n",
      "614/614 [==============================] - 0s - loss: 0.4375 - acc: 0.7899     \n",
      "Epoch 2/20\n",
      "614/614 [==============================] - 0s - loss: 0.4362 - acc: 0.7801     \n",
      "Epoch 3/20\n",
      "614/614 [==============================] - 0s - loss: 0.4358 - acc: 0.7883     \n",
      "Epoch 4/20\n",
      "614/614 [==============================] - 0s - loss: 0.4351 - acc: 0.7899     \n",
      "Epoch 5/20\n",
      "614/614 [==============================] - 0s - loss: 0.4354 - acc: 0.7883     \n",
      "Epoch 6/20\n",
      "614/614 [==============================] - 0s - loss: 0.4339 - acc: 0.7850     \n",
      "Epoch 7/20\n",
      "614/614 [==============================] - 0s - loss: 0.4346 - acc: 0.7850     \n",
      "Epoch 8/20\n",
      "614/614 [==============================] - 0s - loss: 0.4341 - acc: 0.7883     \n",
      "Epoch 9/20\n",
      "614/614 [==============================] - 0s - loss: 0.4340 - acc: 0.7915     \n",
      "Epoch 10/20\n",
      "614/614 [==============================] - 0s - loss: 0.4329 - acc: 0.7834     \n",
      "Epoch 11/20\n",
      "614/614 [==============================] - 0s - loss: 0.4337 - acc: 0.7866     \n",
      "Epoch 12/20\n",
      "614/614 [==============================] - 0s - loss: 0.4325 - acc: 0.7883     \n",
      "Epoch 13/20\n",
      "614/614 [==============================] - 0s - loss: 0.4328 - acc: 0.7834     \n",
      "Epoch 14/20\n",
      "614/614 [==============================] - 0s - loss: 0.4320 - acc: 0.7850     \n",
      "Epoch 15/20\n",
      "614/614 [==============================] - 0s - loss: 0.4319 - acc: 0.7850     \n",
      "Epoch 16/20\n",
      "614/614 [==============================] - 0s - loss: 0.4318 - acc: 0.7883     \n",
      "Epoch 17/20\n",
      "614/614 [==============================] - 0s - loss: 0.4323 - acc: 0.7801     \n",
      "Epoch 18/20\n",
      "614/614 [==============================] - 0s - loss: 0.4305 - acc: 0.7850     \n",
      "Epoch 19/20\n",
      "614/614 [==============================] - 0s - loss: 0.4307 - acc: 0.7850     \n",
      "Epoch 20/20\n",
      "614/614 [==============================] - 0s - loss: 0.4309 - acc: 0.7866     \n"
     ]
    },
    {
     "data": {
      "text/plain": [
       "<keras.callbacks.History at 0x10b2f0630>"
      ]
     },
     "execution_count": 16,
     "metadata": {},
     "output_type": "execute_result"
    }
   ],
   "source": [
    "model.fit(X_train, y_train, epochs=20, batch_size=10)"
   ]
  },
  {
   "cell_type": "markdown",
   "metadata": {},
   "source": [
    "### Testing the Model\n",
    "\n",
    "We want to know see how our model performs on our testing dataset which we left aside. We can use the `evaluate()` function on our model to pass in our testing features with their corresponding labels. We can then access the accracy and print it out."
   ]
  },
  {
   "cell_type": "code",
   "execution_count": 22,
   "metadata": {},
   "outputs": [
    {
     "name": "stdout",
     "output_type": "stream",
     "text": [
      "Accuracy: 77.27%\n"
     ]
    }
   ],
   "source": [
    "scores = model.evaluate(X_test, y_test, verbose=False)\n",
    "print(\"Accuracy: %.2f%%\" % (scores[1]*100))"
   ]
  },
  {
   "cell_type": "markdown",
   "metadata": {},
   "source": [
    "### Results\n",
    "\n",
    "We can see that using an incredibly small 3 layer neural network was able an accuracy of `77.3%` after only 20 epochs. This is equal if not better performance than our logistic regression model. The best part is neural networks learn with more data so we can see large improvements in performance with larger datasets."
   ]
  },
  {
   "cell_type": "markdown",
   "metadata": {},
   "source": [
    "## Visualizing the Training\n",
    "\n",
    "We can also visualize the loss function and validation set accuracy over time.\n",
    "\n",
    "The validation set is used to monitor the neural networks training performance over time. If the validation accuracy stops increasing or the loss stops decreasing, it can signify a problem or that the neural network is at its best performance with the data. Its important to note that the neural network never trains on the validation set, it just uses it as a baseline while training. Notice how accuracy on the training set is always going to be higher than the validation or test set. \n",
    "\n",
    "###### Code from [here](https://machinelearningmastery.com/display-deep-learning-model-training-history-in-keras/)."
   ]
  },
  {
   "cell_type": "code",
   "execution_count": 41,
   "metadata": {},
   "outputs": [
    {
     "name": "stdout",
     "output_type": "stream",
     "text": [
      "dict_keys(['val_loss', 'val_acc', 'loss', 'acc'])\n"
     ]
    }
   ],
   "source": [
    "history = model.fit(X_train, y_train, validation_split=0.33, epochs=100, batch_size=10, verbose=0)\n",
    "# list all data in history\n",
    "print(history.history.keys())"
   ]
  },
  {
   "cell_type": "code",
   "execution_count": 42,
   "metadata": {},
   "outputs": [
    {
     "data": {
      "image/png": "[encoded data removed]",
      "text/plain": [
       "<matplotlib.figure.Figure at 0x1195767b8>"
      ]
     },
     "metadata": {},
     "output_type": "display_data"
    }
   ],
   "source": [
    "# summarize history for accuracy\n",
    "plt.plot(history.history['acc'])\n",
    "plt.plot(history.history['val_acc'])\n",
    "plt.title('model accuracy')\n",
    "plt.ylabel('accuracy')\n",
    "plt.xlabel('epoch')\n",
    "plt.legend(['train', 'validation'], loc='upper left')\n",
    "plt.show()"
   ]
  },
  {
   "cell_type": "code",
   "execution_count": 43,
   "metadata": {},
   "outputs": [
    {
     "data": {
      "image/png": "[encoded data removed]",
      "text/plain": [
       "<matplotlib.figure.Figure at 0x1196472e8>"
      ]
     },
     "metadata": {},
     "output_type": "display_data"
    }
   ],
   "source": [
    "# summarize history for loss\n",
    "plt.plot(history.history['loss'])\n",
    "plt.plot(history.history['val_loss'])\n",
    "plt.title('model loss')\n",
    "plt.ylabel('loss')\n",
    "plt.xlabel('epoch')\n",
    "plt.legend(['train', 'test'], loc='upper left')\n",
    "plt.show()"
   ]
  },
  {
   "cell_type": "code",
   "execution_count": null,
   "metadata": {},
   "outputs": [],
   "source": []
  }
 ],
 "metadata": {
  "kernelspec": {
   "display_name": "Python 3",
   "language": "python",
   "name": "python3"
  },
  "language_info": {
   "codemirror_mode": {
    "name": "ipython",
    "version": 3
   },
   "file_extension": ".py",
   "mimetype": "text/x-python",
   "name": "python",
   "nbconvert_exporter": "python",
   "pygments_lexer": "ipython3",
   "version": "3.6.4"
  }
 },
 "nbformat": 4,
 "nbformat_minor": 2
}
