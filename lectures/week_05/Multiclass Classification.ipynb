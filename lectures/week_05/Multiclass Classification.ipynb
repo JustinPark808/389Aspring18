{
 "cells": [
  {
   "cell_type": "code",
   "execution_count": 1,
   "metadata": {},
   "outputs": [],
   "source": [
    "%matplotlib inline"
   ]
  },
  {
   "cell_type": "markdown",
   "metadata": {},
   "source": [
    "# Multiclass Classification with Keras\n",
    "\n",
    "**Course**: CMSC 389A Practical Deep Learning  \n",
    "**Author**: Sujith Vishwajith\n",
    "\n",
    "**Task**: Up until now we have mainly been talking about binary classification. That is identifying whether an example either belongs to the class (1) or doesn't (0). We will now discuss multiclass classification which allows you to decide which class an example belongs to out of more than 2 options. In our example today, we will be classifying which type of Iris a flower is based on its features. There are three classes of Iris flowers: Iris Setosa, Iris Versicolor, and Iris Virginica. Our features for the plant are:\n",
    "1. Sepal Length (cm)\n",
    "2. Sepal Width (cm)\n",
    "3. Petal Length (cm)\n",
    "4. Petal Width (cm)\n",
    "\n",
    "This notebook is meant to supplement this week's lecture and give a reference for Practical 2.\n",
    "\n",
    "**Packages**  \n",
    "Lets import the following required packages."
   ]
  },
  {
   "cell_type": "code",
   "execution_count": 53,
   "metadata": {},
   "outputs": [],
   "source": [
    "import itertools\n",
    "import matplotlib.pyplot as plt\n",
    "import numpy as np\n",
    "import pandas as pd\n",
    "from keras.layers import Dense\n",
    "from keras.models import Sequential\n",
    "from sklearn.utils import shuffle\n",
    "from sklearn.preprocessing import LabelEncoder\n",
    "from sklearn.model_selection import train_test_split\n",
    "from sklearn.metrics import classification_report, confusion_matrix, accuracy_score\n",
    "\n",
    "# Fixed seed for reproducibility\n",
    "kSEED = 5\n",
    "np.random.seed(kSEED)"
   ]
  },
  {
   "cell_type": "markdown",
   "metadata": {},
   "source": [
    "## Load Data\n",
    "\n",
    "We'll be using the Iris dataset provided by UCI [here](http://archive.ics.uci.edu/ml/machine-learning-databases/iris/) to train our model.\n",
    "\n",
    "**Reading the Data** \n",
    "Let's first load and read the dataset into our program."
   ]
  },
  {
   "cell_type": "code",
   "execution_count": 29,
   "metadata": {},
   "outputs": [],
   "source": [
    "file_name = 'Iris.csv'\n",
    "columns = [\n",
    "    'Sepal Length (cm)',\n",
    "    'Sepal Width (cm)',\n",
    "    'Petal Length (cm)',\n",
    "    'Petal Width (cm)',\n",
    "    'Species'\n",
    "]\n",
    "\n",
    "df = pd.read_csv(file_name, names=columns, delimiter=',', header=0)\n",
    "df[columns[:-1]] = df[columns[:-1]].astype(float)\n",
    "df[columns[-1]] = df[columns[-1]].astype(str)"
   ]
  },
  {
   "cell_type": "markdown",
   "metadata": {},
   "source": [
    "Lets take a peek at the data."
   ]
  },
  {
   "cell_type": "code",
   "execution_count": 30,
   "metadata": {},
   "outputs": [
    {
     "data": {
      "text/html": [
       "<div>\n",
       "<style scoped>\n",
       "    .dataframe tbody tr th:only-of-type {\n",
       "        vertical-align: middle;\n",
       "    }\n",
       "\n",
       "    .dataframe tbody tr th {\n",
       "        vertical-align: top;\n",
       "    }\n",
       "\n",
       "    .dataframe thead th {\n",
       "        text-align: right;\n",
       "    }\n",
       "</style>\n",
       "<table border=\"1\" class=\"dataframe\">\n",
       "  <thead>\n",
       "    <tr style=\"text-align: right;\">\n",
       "      <th></th>\n",
       "      <th>Sepal Length (cm)</th>\n",
       "      <th>Sepal Width (cm)</th>\n",
       "      <th>Petal Length (cm)</th>\n",
       "      <th>Petal Width (cm)</th>\n",
       "      <th>Species</th>\n",
       "    </tr>\n",
       "  </thead>\n",
       "  <tbody>\n",
       "    <tr>\n",
       "      <th>0</th>\n",
       "      <td>5.1</td>\n",
       "      <td>3.5</td>\n",
       "      <td>1.4</td>\n",
       "      <td>0.2</td>\n",
       "      <td>Iris-setosa</td>\n",
       "    </tr>\n",
       "    <tr>\n",
       "      <th>1</th>\n",
       "      <td>4.9</td>\n",
       "      <td>3.0</td>\n",
       "      <td>1.4</td>\n",
       "      <td>0.2</td>\n",
       "      <td>Iris-setosa</td>\n",
       "    </tr>\n",
       "    <tr>\n",
       "      <th>2</th>\n",
       "      <td>4.7</td>\n",
       "      <td>3.2</td>\n",
       "      <td>1.3</td>\n",
       "      <td>0.2</td>\n",
       "      <td>Iris-setosa</td>\n",
       "    </tr>\n",
       "    <tr>\n",
       "      <th>3</th>\n",
       "      <td>4.6</td>\n",
       "      <td>3.1</td>\n",
       "      <td>1.5</td>\n",
       "      <td>0.2</td>\n",
       "      <td>Iris-setosa</td>\n",
       "    </tr>\n",
       "    <tr>\n",
       "      <th>4</th>\n",
       "      <td>5.0</td>\n",
       "      <td>3.6</td>\n",
       "      <td>1.4</td>\n",
       "      <td>0.2</td>\n",
       "      <td>Iris-setosa</td>\n",
       "    </tr>\n",
       "  </tbody>\n",
       "</table>\n",
       "</div>"
      ],
      "text/plain": [
       "   Sepal Length (cm)  Sepal Width (cm)  Petal Length (cm)  Petal Width (cm)  \\\n",
       "0                5.1               3.5                1.4               0.2   \n",
       "1                4.9               3.0                1.4               0.2   \n",
       "2                4.7               3.2                1.3               0.2   \n",
       "3                4.6               3.1                1.5               0.2   \n",
       "4                5.0               3.6                1.4               0.2   \n",
       "\n",
       "       Species  \n",
       "0  Iris-setosa  \n",
       "1  Iris-setosa  \n",
       "2  Iris-setosa  \n",
       "3  Iris-setosa  \n",
       "4  Iris-setosa  "
      ]
     },
     "execution_count": 30,
     "metadata": {},
     "output_type": "execute_result"
    }
   ],
   "source": [
    "df.head()"
   ]
  },
  {
   "cell_type": "markdown",
   "metadata": {},
   "source": [
    "As usual, let's normalize all the values between -1 and 1. Remember that this only applied to continous values not one hot class encodings (e.g. Male -> 0, Female -> 1)."
   ]
  },
  {
   "cell_type": "code",
   "execution_count": 5,
   "metadata": {},
   "outputs": [],
   "source": [
    "# Normalize all the values between -1 and 1 as discussed in class\n",
    "for feature in df.columns[:-1]:\n",
    "    max_value = df[feature].max()\n",
    "    min_value = df[feature].min()\n",
    "    mean_value = df[feature].mean()\n",
    "    df[feature] = (df[feature] - mean_value) / (max_value - min_value)"
   ]
  },
  {
   "cell_type": "markdown",
   "metadata": {},
   "source": [
    "Lets now examine the data after normalizing it."
   ]
  },
  {
   "cell_type": "code",
   "execution_count": 6,
   "metadata": {},
   "outputs": [
    {
     "data": {
      "text/html": [
       "<div>\n",
       "<style scoped>\n",
       "    .dataframe tbody tr th:only-of-type {\n",
       "        vertical-align: middle;\n",
       "    }\n",
       "\n",
       "    .dataframe tbody tr th {\n",
       "        vertical-align: top;\n",
       "    }\n",
       "\n",
       "    .dataframe thead th {\n",
       "        text-align: right;\n",
       "    }\n",
       "</style>\n",
       "<table border=\"1\" class=\"dataframe\">\n",
       "  <thead>\n",
       "    <tr style=\"text-align: right;\">\n",
       "      <th></th>\n",
       "      <th>Sepal Length (cm)</th>\n",
       "      <th>Sepal Width (cm)</th>\n",
       "      <th>Petal Length (cm)</th>\n",
       "      <th>Petal Width (cm)</th>\n",
       "      <th>Species</th>\n",
       "    </tr>\n",
       "  </thead>\n",
       "  <tbody>\n",
       "    <tr>\n",
       "      <th>0</th>\n",
       "      <td>-0.206481</td>\n",
       "      <td>0.185833</td>\n",
       "      <td>-0.399774</td>\n",
       "      <td>-0.416111</td>\n",
       "      <td>Iris-setosa</td>\n",
       "    </tr>\n",
       "    <tr>\n",
       "      <th>1</th>\n",
       "      <td>-0.262037</td>\n",
       "      <td>-0.022500</td>\n",
       "      <td>-0.399774</td>\n",
       "      <td>-0.416111</td>\n",
       "      <td>Iris-setosa</td>\n",
       "    </tr>\n",
       "    <tr>\n",
       "      <th>2</th>\n",
       "      <td>-0.317593</td>\n",
       "      <td>0.060833</td>\n",
       "      <td>-0.416723</td>\n",
       "      <td>-0.416111</td>\n",
       "      <td>Iris-setosa</td>\n",
       "    </tr>\n",
       "    <tr>\n",
       "      <th>3</th>\n",
       "      <td>-0.345370</td>\n",
       "      <td>0.019167</td>\n",
       "      <td>-0.382825</td>\n",
       "      <td>-0.416111</td>\n",
       "      <td>Iris-setosa</td>\n",
       "    </tr>\n",
       "    <tr>\n",
       "      <th>4</th>\n",
       "      <td>-0.234259</td>\n",
       "      <td>0.227500</td>\n",
       "      <td>-0.399774</td>\n",
       "      <td>-0.416111</td>\n",
       "      <td>Iris-setosa</td>\n",
       "    </tr>\n",
       "  </tbody>\n",
       "</table>\n",
       "</div>"
      ],
      "text/plain": [
       "   Sepal Length (cm)  Sepal Width (cm)  Petal Length (cm)  Petal Width (cm)  \\\n",
       "0          -0.206481          0.185833          -0.399774         -0.416111   \n",
       "1          -0.262037         -0.022500          -0.399774         -0.416111   \n",
       "2          -0.317593          0.060833          -0.416723         -0.416111   \n",
       "3          -0.345370          0.019167          -0.382825         -0.416111   \n",
       "4          -0.234259          0.227500          -0.399774         -0.416111   \n",
       "\n",
       "       Species  \n",
       "0  Iris-setosa  \n",
       "1  Iris-setosa  \n",
       "2  Iris-setosa  \n",
       "3  Iris-setosa  \n",
       "4  Iris-setosa  "
      ]
     },
     "execution_count": 6,
     "metadata": {},
     "output_type": "execute_result"
    }
   ],
   "source": [
    "df.head()"
   ]
  },
  {
   "cell_type": "markdown",
   "metadata": {},
   "source": [
    "## Load the examples into a data variable\n",
    "\n",
    "Similar to what we did before, we will create a list `data` that contains all our examples in the dataset."
   ]
  },
  {
   "cell_type": "code",
   "execution_count": 7,
   "metadata": {},
   "outputs": [],
   "source": [
    "class Example:\n",
    "    \"\"\"\n",
    "    Class to represent a data example.\n",
    "    \"\"\"\n",
    "\n",
    "    def __init__(self, features, label):\n",
    "        \"\"\"\n",
    "        Create a new example.\n",
    "\n",
    "        :param label: The label (0 / 1) of the example\n",
    "        :param vocab: The real valued features of patient (list)\n",
    "        \"\"\"\n",
    "        self.features = features\n",
    "        self.label = label"
   ]
  },
  {
   "cell_type": "code",
   "execution_count": 31,
   "metadata": {},
   "outputs": [],
   "source": [
    "data = []\n",
    "for row in df.itertuples():\n",
    "    label = row[-1]\n",
    "    features = row[1:-1]\n",
    "    example = Example(features, label)\n",
    "    data.append(example)"
   ]
  },
  {
   "cell_type": "code",
   "execution_count": 32,
   "metadata": {
    "scrolled": false
   },
   "outputs": [],
   "source": [
    "data = shuffle(data, random_state=kSEED)\n",
    "\n",
    "X = [example.features for example in data]\n",
    "y = [example.label for example in data]"
   ]
  },
  {
   "cell_type": "markdown",
   "metadata": {},
   "source": [
    "## Encoding the Labels\n",
    "\n",
    "Before, our output variable only contained a binary label (either a 1 or a 0) that we wanted to predict. In this case, we have 3 potential output classes represented as strings. A common practice to use in this scenario is to create a one hot encoding for each class. A one-hot encoding is a matrix where each class is assigned an index and if the value at the index is True (>1), the data point belongs to that class. For example lets say our encoding looks like the following:\n",
    "\n",
    "Iris Setosa (index 0), Iris Versicolor (index 1), Iris Virginica (index 2)  \n",
    "If flower is Iris Setosa: `[1,0,0]`  \n",
    "If flower is Iris Versicolor: `[0,1,0]`  \n",
    "If flower is Iris Virginica: `[0,0,1]`  \n",
    "\n",
    "This is nice because our network can simply output a 1x3 vector (3 output nodes) where it contains the probability of being that class at each index. We can then just take the class with the highest probability and that is our class.\n",
    "\n",
    "Encoding the classes is really easy to do if you take advantage of sklearn's `Label Encoder`."
   ]
  },
  {
   "cell_type": "code",
   "execution_count": 33,
   "metadata": {},
   "outputs": [],
   "source": [
    "encoder =  LabelEncoder()\n",
    "encoded_y = encoder.fit_transform(y)\n",
    "dummy_y = pd.get_dummies(encoded_y).values"
   ]
  },
  {
   "cell_type": "markdown",
   "metadata": {},
   "source": [
    "Lets take a look at the encoded values for the fist 5 rows."
   ]
  },
  {
   "cell_type": "code",
   "execution_count": 34,
   "metadata": {},
   "outputs": [
    {
     "name": "stdout",
     "output_type": "stream",
     "text": [
      "Iris-versicolor -> [0 1 0]\n",
      "Iris-virginica -> [0 0 1]\n",
      "Iris-virginica -> [0 0 1]\n",
      "Iris-setosa -> [1 0 0]\n",
      "Iris-virginica -> [0 0 1]\n"
     ]
    }
   ],
   "source": [
    "for i in range(5):\n",
    "    print('{:} -> {:}'.format(y[i], dummy_y[i]))"
   ]
  },
  {
   "cell_type": "markdown",
   "metadata": {},
   "source": [
    "## Train-test Split\n",
    "\n",
    "We will take a random 80% for training examples and a random 20% for testing. We can do this quickly using sklearn's train test split function.\n",
    " \n",
    "Note how we use `dummy_y` instead of `y` as it contains our encoded vector."
   ]
  },
  {
   "cell_type": "code",
   "execution_count": 35,
   "metadata": {},
   "outputs": [
    {
     "name": "stdout",
     "output_type": "stream",
     "text": [
      "Total Examples: 150\n",
      "Train Examples: 120\n",
      "Test Examples:   30\n"
     ]
    }
   ],
   "source": [
    "X_train, X_test, y_train, y_test = train_test_split(X,dummy_y,test_size=0.2, random_state=kSEED)\n",
    "\n",
    "print('Total Examples: {:}\\nTrain Examples: {:}\\nTest Examples: {:4d}'.format(len(data), len(X_train), len(X_test)))"
   ]
  },
  {
   "cell_type": "markdown",
   "metadata": {},
   "source": [
    "## Implementing the Model\n",
    "\n",
    "Notice how our model architecture looks extremely similar to the one we used for the binary classification task on the Diabetes dataset. The only big difference here is in the last line of the model where our final dense layer contains 3 neurons rather than 1. This is because each neuron will correspond to each of the Iris classes and contain a probability for each class.\n",
    "\n",
    "For example if the model output was `[0.8, 0.1, 0.1]`, then the predicted class is Iris Setosa."
   ]
  },
  {
   "cell_type": "code",
   "execution_count": 37,
   "metadata": {},
   "outputs": [],
   "source": [
    "model = Sequential()\n",
    "model.add(Dense(16,input_shape=(4,),activation='relu'))\n",
    "model.add(Dense(8,activation='relu'))\n",
    "model.add(Dense(3,activation='softmax'))"
   ]
  },
  {
   "cell_type": "markdown",
   "metadata": {},
   "source": [
    "### Compiling the Model\n",
    "\n",
    "Before we used the `binary_crossentropy` loss in the Diabetes dataset. We will now use the `category_crossentropy` loss to handle more than two classes. Check out the link [here](http://ml-cheatsheet.readthedocs.io/en/latest/loss_functions.html#cross-entropy) for more information on the differences between the two but just remember that binary is for two classes and categorical is for more than two."
   ]
  },
  {
   "cell_type": "code",
   "execution_count": 38,
   "metadata": {},
   "outputs": [],
   "source": [
    "model.compile(loss='categorical_crossentropy', optimizer='adam', metrics=['accuracy'])"
   ]
  },
  {
   "cell_type": "markdown",
   "metadata": {},
   "source": [
    "### Model Summary\n",
    "\n",
    "To get a quick overview of our model, we can use the `.summary()` property of Keras."
   ]
  },
  {
   "cell_type": "code",
   "execution_count": 39,
   "metadata": {},
   "outputs": [
    {
     "name": "stdout",
     "output_type": "stream",
     "text": [
      "_________________________________________________________________\n",
      "Layer (type)                 Output Shape              Param #   \n",
      "=================================================================\n",
      "dense_4 (Dense)              (None, 16)                80        \n",
      "_________________________________________________________________\n",
      "dense_5 (Dense)              (None, 8)                 136       \n",
      "_________________________________________________________________\n",
      "dense_6 (Dense)              (None, 3)                 27        \n",
      "=================================================================\n",
      "Total params: 243\n",
      "Trainable params: 243\n",
      "Non-trainable params: 0\n",
      "_________________________________________________________________\n"
     ]
    }
   ],
   "source": [
    "model.summary()"
   ]
  },
  {
   "cell_type": "markdown",
   "metadata": {},
   "source": [
    "### Training the Model\n",
    "\n",
    "We will train then neural network on the data we setup before. We will train for 100 epochs with a batch size of 10."
   ]
  },
  {
   "cell_type": "code",
   "execution_count": 40,
   "metadata": {
    "scrolled": true
   },
   "outputs": [
    {
     "name": "stdout",
     "output_type": "stream",
     "text": [
      "Epoch 1/100\n",
      "120/120 [==============================] - 0s - loss: 2.6940 - acc: 0.3250     \n",
      "Epoch 2/100\n",
      "120/120 [==============================] - 0s - loss: 2.1365 - acc: 0.3250     \n",
      "Epoch 3/100\n",
      "120/120 [==============================] - 0s - loss: 1.6771 - acc: 0.3250     \n",
      "Epoch 4/100\n",
      "120/120 [==============================] - 0s - loss: 1.3775 - acc: 0.3250     \n",
      "Epoch 5/100\n",
      "120/120 [==============================] - 0s - loss: 1.2051 - acc: 0.3417     \n",
      "Epoch 6/100\n",
      "120/120 [==============================] - 0s - loss: 1.1052 - acc: 0.4333     \n",
      "Epoch 7/100\n",
      "120/120 [==============================] - 0s - loss: 1.0414 - acc: 0.4083     \n",
      "Epoch 8/100\n",
      "120/120 [==============================] - 0s - loss: 1.0015 - acc: 0.3667     \n",
      "Epoch 9/100\n",
      "120/120 [==============================] - 0s - loss: 0.9695 - acc: 0.3500     \n",
      "Epoch 10/100\n",
      "120/120 [==============================] - 0s - loss: 0.9445 - acc: 0.4250     \n",
      "Epoch 11/100\n",
      "120/120 [==============================] - 0s - loss: 0.9191 - acc: 0.6750     \n",
      "Epoch 12/100\n",
      "120/120 [==============================] - 0s - loss: 0.8976 - acc: 0.7333     \n",
      "Epoch 13/100\n",
      "120/120 [==============================] - 0s - loss: 0.8733 - acc: 0.8000     \n",
      "Epoch 14/100\n",
      "120/120 [==============================] - 0s - loss: 0.8495 - acc: 0.7583     \n",
      "Epoch 15/100\n",
      "120/120 [==============================] - 0s - loss: 0.8270 - acc: 0.7750     \n",
      "Epoch 16/100\n",
      "120/120 [==============================] - 0s - loss: 0.8031 - acc: 0.7333     \n",
      "Epoch 17/100\n",
      "120/120 [==============================] - 0s - loss: 0.7793 - acc: 0.7917     \n",
      "Epoch 18/100\n",
      "120/120 [==============================] - 0s - loss: 0.7562 - acc: 0.7917     \n",
      "Epoch 19/100\n",
      "120/120 [==============================] - 0s - loss: 0.7335 - acc: 0.7750     \n",
      "Epoch 20/100\n",
      "120/120 [==============================] - 0s - loss: 0.7139 - acc: 0.7917     \n",
      "Epoch 21/100\n",
      "120/120 [==============================] - 0s - loss: 0.6942 - acc: 0.8083     \n",
      "Epoch 22/100\n",
      "120/120 [==============================] - 0s - loss: 0.6777 - acc: 0.8000     \n",
      "Epoch 23/100\n",
      "120/120 [==============================] - 0s - loss: 0.6601 - acc: 0.7333     \n",
      "Epoch 24/100\n",
      "120/120 [==============================] - 0s - loss: 0.6417 - acc: 0.7833     \n",
      "Epoch 25/100\n",
      "120/120 [==============================] - 0s - loss: 0.6285 - acc: 0.8250     \n",
      "Epoch 26/100\n",
      "120/120 [==============================] - 0s - loss: 0.6124 - acc: 0.8250     \n",
      "Epoch 27/100\n",
      "120/120 [==============================] - 0s - loss: 0.6001 - acc: 0.7917     \n",
      "Epoch 28/100\n",
      "120/120 [==============================] - 0s - loss: 0.5838 - acc: 0.8000     \n",
      "Epoch 29/100\n",
      "120/120 [==============================] - 0s - loss: 0.5697 - acc: 0.7917     \n",
      "Epoch 30/100\n",
      "120/120 [==============================] - 0s - loss: 0.5585 - acc: 0.8250     \n",
      "Epoch 31/100\n",
      "120/120 [==============================] - 0s - loss: 0.5490 - acc: 0.8083     \n",
      "Epoch 32/100\n",
      "120/120 [==============================] - 0s - loss: 0.5336 - acc: 0.8500     \n",
      "Epoch 33/100\n",
      "120/120 [==============================] - 0s - loss: 0.5263 - acc: 0.8333     \n",
      "Epoch 34/100\n",
      "120/120 [==============================] - 0s - loss: 0.5133 - acc: 0.8333     \n",
      "Epoch 35/100\n",
      "120/120 [==============================] - 0s - loss: 0.5044 - acc: 0.8333     \n",
      "Epoch 36/100\n",
      "120/120 [==============================] - 0s - loss: 0.4990 - acc: 0.8083     \n",
      "Epoch 37/100\n",
      "120/120 [==============================] - 0s - loss: 0.4992 - acc: 0.8500     \n",
      "Epoch 38/100\n",
      "120/120 [==============================] - 0s - loss: 0.4780 - acc: 0.8583     \n",
      "Epoch 39/100\n",
      "120/120 [==============================] - 0s - loss: 0.4710 - acc: 0.8417     \n",
      "Epoch 40/100\n",
      "120/120 [==============================] - 0s - loss: 0.4650 - acc: 0.8500     \n",
      "Epoch 41/100\n",
      "120/120 [==============================] - 0s - loss: 0.4577 - acc: 0.8500     \n",
      "Epoch 42/100\n",
      "120/120 [==============================] - 0s - loss: 0.4524 - acc: 0.8417     \n",
      "Epoch 43/100\n",
      "120/120 [==============================] - 0s - loss: 0.4448 - acc: 0.8583     \n",
      "Epoch 44/100\n",
      "120/120 [==============================] - 0s - loss: 0.4382 - acc: 0.8667     \n",
      "Epoch 45/100\n",
      "120/120 [==============================] - 0s - loss: 0.4335 - acc: 0.8583     \n",
      "Epoch 46/100\n",
      "120/120 [==============================] - 0s - loss: 0.4263 - acc: 0.8833     \n",
      "Epoch 47/100\n",
      "120/120 [==============================] - 0s - loss: 0.4202 - acc: 0.8833     \n",
      "Epoch 48/100\n",
      "120/120 [==============================] - 0s - loss: 0.4187 - acc: 0.8500     \n",
      "Epoch 49/100\n",
      "120/120 [==============================] - 0s - loss: 0.4088 - acc: 0.8750     \n",
      "Epoch 50/100\n",
      "120/120 [==============================] - 0s - loss: 0.4047 - acc: 0.9167     \n",
      "Epoch 51/100\n",
      "120/120 [==============================] - 0s - loss: 0.4012 - acc: 0.9167     \n",
      "Epoch 52/100\n",
      "120/120 [==============================] - 0s - loss: 0.3937 - acc: 0.9000     \n",
      "Epoch 53/100\n",
      "120/120 [==============================] - 0s - loss: 0.3927 - acc: 0.9333     \n",
      "Epoch 54/100\n",
      "120/120 [==============================] - 0s - loss: 0.3843 - acc: 0.9417     \n",
      "Epoch 55/100\n",
      "120/120 [==============================] - 0s - loss: 0.3870 - acc: 0.8583     \n",
      "Epoch 56/100\n",
      "120/120 [==============================] - 0s - loss: 0.3781 - acc: 0.9417     \n",
      "Epoch 57/100\n",
      "120/120 [==============================] - 0s - loss: 0.3721 - acc: 0.9417     \n",
      "Epoch 58/100\n",
      "120/120 [==============================] - 0s - loss: 0.3694 - acc: 0.9083     \n",
      "Epoch 59/100\n",
      "120/120 [==============================] - 0s - loss: 0.3631 - acc: 0.9250     \n",
      "Epoch 60/100\n",
      "120/120 [==============================] - 0s - loss: 0.3661 - acc: 0.9417     \n",
      "Epoch 61/100\n",
      "120/120 [==============================] - 0s - loss: 0.3521 - acc: 0.9583     \n",
      "Epoch 62/100\n",
      "120/120 [==============================] - 0s - loss: 0.3498 - acc: 0.9167     \n",
      "Epoch 63/100\n",
      "120/120 [==============================] - 0s - loss: 0.3459 - acc: 0.9417     \n",
      "Epoch 64/100\n",
      "120/120 [==============================] - 0s - loss: 0.3426 - acc: 0.9250     \n",
      "Epoch 65/100\n",
      "120/120 [==============================] - 0s - loss: 0.3372 - acc: 0.9500     \n",
      "Epoch 66/100\n",
      "120/120 [==============================] - 0s - loss: 0.3334 - acc: 0.9583     \n",
      "Epoch 67/100\n",
      "120/120 [==============================] - 0s - loss: 0.3288 - acc: 0.9417     \n",
      "Epoch 68/100\n",
      "120/120 [==============================] - 0s - loss: 0.3253 - acc: 0.9417     \n",
      "Epoch 69/100\n",
      "120/120 [==============================] - 0s - loss: 0.3219 - acc: 0.9667     \n",
      "Epoch 70/100\n",
      "120/120 [==============================] - 0s - loss: 0.3199 - acc: 0.9583     \n",
      "Epoch 71/100\n",
      "120/120 [==============================] - 0s - loss: 0.3157 - acc: 0.9250     \n",
      "Epoch 72/100\n",
      "120/120 [==============================] - 0s - loss: 0.3111 - acc: 0.9500     \n",
      "Epoch 73/100\n",
      "120/120 [==============================] - 0s - loss: 0.3067 - acc: 0.9667     \n",
      "Epoch 74/100\n",
      "120/120 [==============================] - 0s - loss: 0.3022 - acc: 0.9500     \n",
      "Epoch 75/100\n",
      "120/120 [==============================] - 0s - loss: 0.2993 - acc: 0.9667     \n",
      "Epoch 76/100\n",
      "120/120 [==============================] - 0s - loss: 0.2938 - acc: 0.9583     \n",
      "Epoch 77/100\n",
      "120/120 [==============================] - 0s - loss: 0.2934 - acc: 0.9667     \n",
      "Epoch 78/100\n",
      "120/120 [==============================] - 0s - loss: 0.2853 - acc: 0.9583     \n",
      "Epoch 79/100\n",
      "120/120 [==============================] - 0s - loss: 0.2866 - acc: 0.9500     \n",
      "Epoch 80/100\n",
      "120/120 [==============================] - 0s - loss: 0.2843 - acc: 0.9500     \n",
      "Epoch 81/100\n",
      "120/120 [==============================] - 0s - loss: 0.2839 - acc: 0.9667     \n",
      "Epoch 82/100\n",
      "120/120 [==============================] - 0s - loss: 0.2698 - acc: 0.9667     \n",
      "Epoch 83/100\n",
      "120/120 [==============================] - 0s - loss: 0.2737 - acc: 0.9250     \n",
      "Epoch 84/100\n",
      "120/120 [==============================] - 0s - loss: 0.2750 - acc: 0.9667     \n",
      "Epoch 85/100\n",
      "120/120 [==============================] - 0s - loss: 0.2639 - acc: 0.9750     \n",
      "Epoch 86/100\n",
      "120/120 [==============================] - 0s - loss: 0.2576 - acc: 0.9667     \n",
      "Epoch 87/100\n",
      "120/120 [==============================] - 0s - loss: 0.2534 - acc: 0.9750     \n",
      "Epoch 88/100\n",
      "120/120 [==============================] - 0s - loss: 0.2502 - acc: 0.9667     \n",
      "Epoch 89/100\n"
     ]
    },
    {
     "name": "stdout",
     "output_type": "stream",
     "text": [
      "120/120 [==============================] - 0s - loss: 0.2481 - acc: 0.9750     \n",
      "Epoch 90/100\n",
      "120/120 [==============================] - 0s - loss: 0.2435 - acc: 0.9750     \n",
      "Epoch 91/100\n",
      "120/120 [==============================] - 0s - loss: 0.2416 - acc: 0.9750     \n",
      "Epoch 92/100\n",
      "120/120 [==============================] - 0s - loss: 0.2413 - acc: 0.9667     \n",
      "Epoch 93/100\n",
      "120/120 [==============================] - 0s - loss: 0.2331 - acc: 0.9750     \n",
      "Epoch 94/100\n",
      "120/120 [==============================] - 0s - loss: 0.2311 - acc: 0.9750     \n",
      "Epoch 95/100\n",
      "120/120 [==============================] - 0s - loss: 0.2318 - acc: 0.9583     \n",
      "Epoch 96/100\n",
      "120/120 [==============================] - 0s - loss: 0.2306 - acc: 0.9667     \n",
      "Epoch 97/100\n",
      "120/120 [==============================] - 0s - loss: 0.2217 - acc: 0.9750     \n",
      "Epoch 98/100\n",
      "120/120 [==============================] - 0s - loss: 0.2255 - acc: 0.9750     \n",
      "Epoch 99/100\n",
      "120/120 [==============================] - 0s - loss: 0.2156 - acc: 0.9750     \n",
      "Epoch 100/100\n",
      "120/120 [==============================] - 0s - loss: 0.2134 - acc: 0.9750     \n"
     ]
    },
    {
     "data": {
      "text/plain": [
       "<keras.callbacks.History at 0x1225a7160>"
      ]
     },
     "execution_count": 40,
     "metadata": {},
     "output_type": "execute_result"
    }
   ],
   "source": [
    "model.fit(X_train, y_train, epochs=100, batch_size=10)"
   ]
  },
  {
   "cell_type": "markdown",
   "metadata": {},
   "source": [
    "### Evaluating the Model\n",
    "\n",
    "We can now run the model on our test data and check the accuracy of the model. Since our `y_test` will be a matrix with a 1 at an element and our predicted output will also be a matrix but with probabilities at each index, we can check if we got the right class by selecting the index with the highest value. In the case of `y_test`, it will always be the correct class and in the case of our prediction, it will be the class we are most confident it is as the probabilities in the output vector sum up to 1."
   ]
  },
  {
   "cell_type": "code",
   "execution_count": 45,
   "metadata": {},
   "outputs": [
    {
     "name": "stdout",
     "output_type": "stream",
     "text": [
      "0.966666666667\n"
     ]
    }
   ],
   "source": [
    "y_pred = model.predict(X_test)\n",
    "y_test_class = np.argmax(y_test,axis=1)\n",
    "y_pred_class = np.argmax(y_pred,axis=1)\n",
    "\n",
    "accuracy = accuracy_score(y_test_class, y_pred_class)\n",
    "print(accuracy)"
   ]
  },
  {
   "cell_type": "markdown",
   "metadata": {},
   "source": [
    "### Results\n",
    "\n",
    "As you can see, we achieve an incredible accuracy of 96.7% on the prediction task. This was also trained super quickly and with a minimal amount of code. We can see the power of neural networks for classification."
   ]
  },
  {
   "cell_type": "markdown",
   "metadata": {},
   "source": [
    "## Analysis Report\n",
    "\n",
    "Here are the scorse computed based on what we talked about in class.  "
   ]
  },
  {
   "cell_type": "code",
   "execution_count": 50,
   "metadata": {},
   "outputs": [
    {
     "name": "stdout",
     "output_type": "stream",
     "text": [
      "             precision    recall  f1-score   support\n",
      "\n",
      "          0       1.00      1.00      1.00         6\n",
      "          1       1.00      0.91      0.95        11\n",
      "          2       0.93      1.00      0.96        13\n",
      "\n",
      "avg / total       0.97      0.97      0.97        30\n",
      "\n"
     ]
    }
   ],
   "source": [
    "print(classification_report(y_test_class,y_pred_class))"
   ]
  },
  {
   "cell_type": "markdown",
   "metadata": {},
   "source": [
    "A visualization of the confusion matrix for our model. The confusion matrix helps us learn what the model predicted in comparison to the ground truth class. This allows us to identify where the model goes wrong in general. You can learn more about confusion matrices [here](http://www.dataschool.io/simple-guide-to-confusion-matrix-terminology/)."
   ]
  },
  {
   "cell_type": "code",
   "execution_count": 55,
   "metadata": {},
   "outputs": [],
   "source": [
    "def plot_confusion_matrix(cm, classes,\n",
    "                          normalize=False,\n",
    "                          title='Confusion matrix',\n",
    "                          cmap=plt.cm.Blues):\n",
    "    \"\"\"\n",
    "    This function prints and plots the confusion matrix.\n",
    "    Normalization can be applied by setting `normalize=True`.\n",
    "    \"\"\"\n",
    "    if normalize:\n",
    "        cm = cm.astype('float') / cm.sum(axis=1)[:, np.newaxis]\n",
    "        print(\"Normalized confusion matrix\")\n",
    "    else:\n",
    "        print('Confusion matrix, without normalization')\n",
    "\n",
    "    plt.imshow(cm, interpolation='nearest', cmap=cmap)\n",
    "    plt.title(title)\n",
    "    plt.colorbar()\n",
    "    tick_marks = np.arange(len(classes))\n",
    "    plt.xticks(tick_marks, classes, rotation=45)\n",
    "    plt.yticks(tick_marks, classes)\n",
    "\n",
    "    fmt = '.2f' if normalize else 'd'\n",
    "    thresh = cm.max() / 2.\n",
    "    for i, j in itertools.product(range(cm.shape[0]), range(cm.shape[1])):\n",
    "        plt.text(j, i, format(cm[i, j], fmt),\n",
    "                 horizontalalignment=\"center\",\n",
    "                 color=\"white\" if cm[i, j] > thresh else \"black\")\n",
    "\n",
    "    plt.tight_layout()\n",
    "    plt.ylabel('True label')\n",
    "    plt.xlabel('Predicted label')"
   ]
  },
  {
   "cell_type": "code",
   "execution_count": 56,
   "metadata": {},
   "outputs": [
    {
     "name": "stdout",
     "output_type": "stream",
     "text": [
      "Confusion matrix, without normalization\n"
     ]
    },
    {
     "data": {
      "image/png": "[encoded data removed]",
      "text/plain": [
       "<matplotlib.figure.Figure at 0x122aead30>"
      ]
     },
     "metadata": {},
     "output_type": "display_data"
    }
   ],
   "source": [
    "cnf_matrix = confusion_matrix(y_test_class,y_pred_class)\n",
    "np.set_printoptions(precision=2)\n",
    "plt.figure()\n",
    "plot_confusion_matrix(cnf_matrix, classes=['Iris Setosa', 'Iris Versicolor', 'Iris Virginica'], title='Confusion matrix')"
   ]
  },
  {
   "cell_type": "code",
   "execution_count": null,
   "metadata": {},
   "outputs": [],
   "source": []
  }
 ],
 "metadata": {
  "kernelspec": {
   "display_name": "Python 3",
   "language": "python",
   "name": "python3"
  },
  "language_info": {
   "codemirror_mode": {
    "name": "ipython",
    "version": 3
   },
   "file_extension": ".py",
   "mimetype": "text/x-python",
   "name": "python",
   "nbconvert_exporter": "python",
   "pygments_lexer": "ipython3",
   "version": "3.6.4"
  }
 },
 "nbformat": 4,
 "nbformat_minor": 2
}
