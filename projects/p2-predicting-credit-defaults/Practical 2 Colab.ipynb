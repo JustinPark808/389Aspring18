{
  "nbformat": 4,
  "nbformat_minor": 0,
  "metadata": {
    "colab": {
      "name": "Practical 2 Colab.ipynb",
      "version": "0.3.2",
      "views": {},
      "default_view": {},
      "provenance": [],
      "collapsed_sections": []
    },
    "kernelspec": {
      "name": "python3",
      "display_name": "Python 3"
    }
  },
  "cells": [
    {
      "metadata": {
        "id": "rrm-1TDmHWTn",
        "colab_type": "code",
        "colab": {
          "autoexec": {
            "startup": false,
            "wait_interval": 0
          },
          "output_extras": [
            {
              "item_id": 1
            }
          ],
          "base_uri": "https://localhost:8080/",
          "height": 34
        },
        "outputId": "bc8be2d1-dff9-4d5b-d97e-814ba6b5a211",
        "executionInfo": {
          "status": "ok",
          "timestamp": 1520000924919,
          "user_tz": 300,
          "elapsed": 4933,
          "user": {
            "displayName": "Sujith Vishwajith",
            "photoUrl": "//lh5.googleusercontent.com/-jqPMi-Vu14o/AAAAAAAAAAI/AAAAAAAAJpg/qUBE57-VdZ4/s50-c-k-no/photo.jpg",
            "userId": "115607418179387540766"
          }
        }
      },
      "cell_type": "code",
      "source": [
        "# https://keras.io/\n",
        "!pip install -q keras\n",
        "import keras"
      ],
      "execution_count": 2,
      "outputs": [
        {
          "output_type": "stream",
          "text": [
            "Using TensorFlow backend.\n"
          ],
          "name": "stderr"
        }
      ]
    },
    {
      "metadata": {
        "id": "_RSySUbSI8Pk",
        "colab_type": "code",
        "colab": {
          "autoexec": {
            "startup": false,
            "wait_interval": 0
          }
        }
      },
      "cell_type": "code",
      "source": [
        "# Insert all other imports you need here\n"
      ],
      "execution_count": 0,
      "outputs": []
    },
    {
      "metadata": {
        "id": "HyP3SROIIoeR",
        "colab_type": "text"
      },
      "cell_type": "markdown",
      "source": [
        "# First_Name Last_Name\n",
        "\n",
        "Please replace `first_name` and `last_name` with your information. This notebook will be your template that you should follow for this project. Feel free to create any subsections within each section."
      ]
    },
    {
      "metadata": {
        "id": "0XNFtzD-IqEE",
        "colab_type": "text"
      },
      "cell_type": "markdown",
      "source": [
        "## Section 1: Loading and processing the data\n",
        "\n",
        "In this section you will load the data from the file `UCI_Credit_Card.csv` and process it appropriately. You will also perform the train-test split in this section. The train-test split we want you to use is 80% for training and 20% for testing.\n",
        "\n",
        "**Explanation**: FOR YOU TO FILL IN"
      ]
    },
    {
      "metadata": {
        "id": "a5zNBv6PJAve",
        "colab_type": "code",
        "colab": {
          "autoexec": {
            "startup": false,
            "wait_interval": 0
          }
        }
      },
      "cell_type": "code",
      "source": [
        ""
      ],
      "execution_count": 0,
      "outputs": []
    },
    {
      "metadata": {
        "id": "MAM2XiKnJA5_",
        "colab_type": "text"
      },
      "cell_type": "markdown",
      "source": [
        "## Section 2: Building the model\n",
        "\n",
        "In this section you will write all the code to build your model in Keras. The model should output a single number between 0 and 1 which is the probability which represents whether the individual will default or not.\n",
        "\n",
        "**Explanation**: FOR YOU TO FILL IN"
      ]
    },
    {
      "metadata": {
        "id": "9DZBbFqUJBvf",
        "colab_type": "code",
        "colab": {
          "autoexec": {
            "startup": false,
            "wait_interval": 0
          }
        }
      },
      "cell_type": "code",
      "source": [
        ""
      ],
      "execution_count": 0,
      "outputs": []
    },
    {
      "metadata": {
        "id": "WjwRK3AIJCH0",
        "colab_type": "text"
      },
      "cell_type": "markdown",
      "source": [
        "## Section 3: Training the model\n",
        "\n",
        "In this section you will write all the coded needed to train your model on the data from Section 0. Make sure you **dont** train the model on the data you will test on!\n",
        "\n",
        "**Explanation**: FOR YOU TO FILL IN"
      ]
    },
    {
      "metadata": {
        "id": "f7rWBsAgJENl",
        "colab_type": "code",
        "colab": {
          "autoexec": {
            "startup": false,
            "wait_interval": 0
          }
        }
      },
      "cell_type": "code",
      "source": [
        ""
      ],
      "execution_count": 0,
      "outputs": []
    },
    {
      "metadata": {
        "id": "zcmTIUxAJExo",
        "colab_type": "text"
      },
      "cell_type": "markdown",
      "source": [
        "## Section 4: Testing the model and results\n",
        "\n",
        "In this section you will compute the accuracy of your model on the test data from Section 0. Make sure you very clearly have a cell that outputs and prints the percentage accuracy of your model. You will also include any code used to analyze the results here.\n",
        "\n",
        "**Explanation**: FOR YOU TO FILL IN"
      ]
    },
    {
      "metadata": {
        "id": "xx41lmvqJGiF",
        "colab_type": "code",
        "colab": {
          "autoexec": {
            "startup": false,
            "wait_interval": 0
          }
        }
      },
      "cell_type": "code",
      "source": [
        ""
      ],
      "execution_count": 0,
      "outputs": []
    }
  ]
}