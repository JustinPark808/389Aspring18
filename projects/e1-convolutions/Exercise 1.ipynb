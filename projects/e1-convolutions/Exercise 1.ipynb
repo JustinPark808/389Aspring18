{
 "cells": [
  {
   "cell_type": "markdown",
   "metadata": {},
   "source": [
    "# First_name Last_name\n",
    "\n",
    "Please replace `first_name` and `last_name` with your information. This notebook will be your template that you should follow for this project. Feel free to create any subsections within each section."
   ]
  },
  {
   "cell_type": "markdown",
   "metadata": {},
   "source": [
    "## Readings\n",
    "\n",
    "Before answering the questions below, please do the following readings. The questions test material directly from these readings so it is highly reccomeded to read them in depth if you struggle with any of the questions.\n",
    "\n",
    "1. Review lecture slides from last week on Deep Learning for Images. \n",
    "    * [Slides](http://nbviewer.jupyter.org/github/UMD-CS-STICs/389Aspring18/blob/master/lectures/week_07/slides_07.pdf)\n",
    "2. Understand and optionally (but highly reccomended) run the code written by the Keras team.\n",
    "    * [Code](https://github.com/keras-team/keras/blob/master/examples/cifar10_cnn.py)\n",
    "3. (Optional) If you have a hard time understanding CNN's well, read both Part 1 & 2 of this short blog which gives a nice introduction to CNN's.\n",
    "    * [Part 1](https://adeshpande3.github.io/adeshpande3.github.io/A-Beginner%27s-Guide-To-Understanding-Convolutional-Neural-Networks/)\n",
    "    * [Part 2](https://adeshpande3.github.io/adeshpande3.github.io/A-Beginner's-Guide-To-Understanding-Convolutional-Neural-Networks-Part-2/)\n",
    "4. (Optional) A very nice but math oriented overview of convolutions by Chris Olah.\n",
    "    * [Blog Post](http://colah.github.io/posts/2014-07-Understanding-Convolutions/)"
   ]
  },
  {
   "cell_type": "markdown",
   "metadata": {},
   "source": [
    "## Questions\n",
    "\n",
    "Please answer the follow the format to answer the following questions in the same cell. If you need to write any code to help you answer your questions, please create a new cell block directly under your answer and before the next question."
   ]
  },
  {
   "cell_type": "markdown",
   "metadata": {},
   "source": [
    "### Question 1\n",
    "\n",
    "Recall that we refer to the dimension of an image with `h x w x d`. What are `h`, `w`, and `d`? How do the dimensions of grayscale images differ from color images? Can we use the same exact filter we use on a grayscale image for color images?"
   ]
  },
  {
   "cell_type": "markdown",
   "metadata": {},
   "source": [
    "__Answer:__ "
   ]
  },
  {
   "cell_type": "markdown",
   "metadata": {},
   "source": [
    "### Question 2\n",
    "\n",
    "I have a convolutional layer where I apply `6` filters each of size `4x4x3` to an input image with dimensions of `64x64x3`. What is the total number of learnable (trainable) parameters in this layer? Please include a brief equation on how you computed the number."
   ]
  },
  {
   "cell_type": "markdown",
   "metadata": {},
   "source": [
    "__Answer:__ "
   ]
  },
  {
   "cell_type": "markdown",
   "metadata": {},
   "source": [
    "### Question 3\n",
    "\n",
    "I have a `3x3` image:\n",
    "$\n",
    "\\begin{bmatrix} \n",
    "2 & 43 & 139 \\\\\n",
    "0 & 201 & 10 \\\\\n",
    "49 & 180 & 244\n",
    "\\end{bmatrix}\n",
    "$\n",
    "and convolve the following `2x2` filter\n",
    "$\n",
    "\\begin{bmatrix} \n",
    "1 & 2 \\\\\n",
    "3 & 1\n",
    "\\end{bmatrix}\n",
    "$\n",
    "with it. What is the result of the convolution and it's dimension?\n",
    "\n",
    "(Double click on this cell block to see how to write a table in $\\LaTeX$)"
   ]
  },
  {
   "cell_type": "markdown",
   "metadata": {},
   "source": [
    "__Answer:__ "
   ]
  },
  {
   "cell_type": "markdown",
   "metadata": {},
   "source": [
    "CIFAR-10 is a classic dataset for vision which contains 60000 `32x32` color images for 10 different classes. The following two questions refer to this [code](https://github.com/keras-team/keras/blob/master/examples/cifar10_cnn.py) which builds a model to train on the CIFAR dataset."
   ]
  },
  {
   "cell_type": "markdown",
   "metadata": {},
   "source": [
    "### Question 4\n",
    "\n",
    "Describe the model in the code they've written. How many layers does it have? How many are convolutional layers, pooling layers, dropout layers, flat fully connected layers? What optimizer do they use and what's their learning rate? Why do they divide the features (images) by 255 on lines `67-68`?"
   ]
  },
  {
   "cell_type": "markdown",
   "metadata": {},
   "source": [
    "__Answer:__ "
   ]
  },
  {
   "cell_type": "markdown",
   "metadata": {},
   "source": [
    "### Question 5\n",
    "\n",
    "In class, we briefly talked about data augmentation. Specifically, how we can take a limited dataset and expand it to give us more training examples. One example of this is flipping an image of a car driving left to get an example of a car driving right. You could also strategically darken the image of a car driving during the day and make it look like it's driving at night. Looking at lines `80-90`, we can see that they use an `ImageGenerator` to do this data augmentation.\n",
    "\n",
    "Your task, write code to perform 3 data augmentation transformations on `img`. I already read in the image and reshaped it to be `128x128`. Some examples of transformations you could do include (but are not limited to) flipping, shifting, cropping, recoloring, etc. Please have a final cell block which displays your final transformed images.\n",
    "\n",
    "You can find the documentation for `ImageGenerator` [here](https://keras.io/preprocessing/image/) and examples of how to use it [here](https://blog.keras.io/building-powerful-image-classification-models-using-very-little-data.html) and [here](https://machinelearningmastery.com/image-augmentation-deep-learning-keras/).\n",
    "\n",
    "Image from [here](http://www.wallpapers13.com/tom-and-jerry-desktop-backgrounds-hd-2560x1600/)."
   ]
  },
  {
   "cell_type": "markdown",
   "metadata": {},
   "source": [
    "__Answer Code Below__"
   ]
  },
  {
   "cell_type": "code",
   "execution_count": 30,
   "metadata": {},
   "outputs": [],
   "source": [
    "from keras.preprocessing.image import ImageDataGenerator, array_to_img, img_to_array, load_img\n",
    "\n",
    "img = load_img('sample.jpg', target_size=(128,128,3))\n",
    "x = array_to_img(x)"
   ]
  },
  {
   "cell_type": "code",
   "execution_count": 31,
   "metadata": {},
   "outputs": [
    {
     "data": {
      "image/png": "[encoded data removed]",
      "text/plain": [
       "<PIL.Image.Image image mode=RGB size=128x128 at 0x1134EBF60>"
      ]
     },
     "execution_count": 31,
     "metadata": {},
     "output_type": "execute_result"
    }
   ],
   "source": [
    "# Visualization of img\n",
    "img"
   ]
  },
  {
   "cell_type": "code",
   "execution_count": null,
   "metadata": {},
   "outputs": [],
   "source": []
  }
 ],
 "metadata": {
  "kernelspec": {
   "display_name": "Python 3",
   "language": "python",
   "name": "python3"
  },
  "language_info": {
   "codemirror_mode": {
    "name": "ipython",
    "version": 3
   },
   "file_extension": ".py",
   "mimetype": "text/x-python",
   "name": "python",
   "nbconvert_exporter": "python",
   "pygments_lexer": "ipython3",
   "version": "3.6.4"
  }
 },
 "nbformat": 4,
 "nbformat_minor": 2
}
